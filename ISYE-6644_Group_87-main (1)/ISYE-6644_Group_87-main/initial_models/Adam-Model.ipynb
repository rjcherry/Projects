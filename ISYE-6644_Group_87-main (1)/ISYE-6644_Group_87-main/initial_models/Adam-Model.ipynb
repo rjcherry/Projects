{
 "cells": [
  {
   "cell_type": "markdown",
   "id": "d3451ca1-1b73-4f72-ac02-c1aa6fbc110d",
   "metadata": {},
   "source": [
    "## Import Libraries"
   ]
  },
  {
   "cell_type": "code",
   "execution_count": 1,
   "id": "3114dd42-b86a-4b2d-bc2e-c5909d8e6720",
   "metadata": {},
   "outputs": [],
   "source": [
    "import numpy as np\n",
    "from scipy.stats import norm"
   ]
  },
  {
   "cell_type": "markdown",
   "id": "b7399e7b-0780-4828-b6ba-ddaf174e8c37",
   "metadata": {},
   "source": [
    "## Define Black Scholes"
   ]
  },
  {
   "cell_type": "code",
   "execution_count": 2,
   "id": "2bae798a-3b86-4957-93b5-c5c18fd278aa",
   "metadata": {},
   "outputs": [],
   "source": [
    "r = 0.07\n",
    "S = 100 \n",
    "K = 100\n",
    "T = 250 #time period days. needs to be less than N\n",
    "N = 250 #number of trading days\n",
    "Simulations = 5000\n",
    "sigma = .2"
   ]
  },
  {
   "cell_type": "code",
   "execution_count": 3,
   "id": "0a29072c-ded2-4340-a489-57ae0ad3c2b8",
   "metadata": {},
   "outputs": [],
   "source": [
    "def blackScholes(r, S, K, T, N, sigma, type=\"c\"):\n",
    "    \"\"\"Calculate BS price of call/put. Adapted from https://quantpy.com.au/black-scholes-model/implementing-black-scholes-option-pricing/. \n",
    "    r = risk free rate of return\n",
    "    S = current stock price\n",
    "    K = Strike Price\n",
    "    T = time to maturity\n",
    "    N = Number of trading days in a year\n",
    "    sigma = standard deviation of log returns (volatility)\n",
    "    \"\"\"\n",
    "    T = T/N\n",
    "    d1 = (np.log(S/K) + (r + sigma**2/2)*T)/(sigma*np.sqrt(T))\n",
    "    d2 = d1 - sigma*np.sqrt(T)\n",
    "    try:\n",
    "        if type == \"c\":\n",
    "            price = S*norm.cdf(d1, 0, 1) - K*np.exp(-r*T)*norm.cdf(d2, 0, 1)\n",
    "        elif type == \"p\":\n",
    "            price = K*np.exp(-r*T)*norm.cdf(-d2, 0, 1) - S*norm.cdf(-d1, 0, 1)\n",
    "        return price\n",
    "    except:\n",
    "        print(\"Please confirm option type, either 'c' for Call or 'p' for Put!\")"
   ]
  },
  {
   "cell_type": "markdown",
   "id": "8e237c86-c0e1-469d-bafc-ff80f4e11ab1",
   "metadata": {},
   "source": [
    "## Define Brownian Motion"
   ]
  },
  {
   "cell_type": "code",
   "execution_count": 5,
   "id": "115f1b42-bad7-4f32-b6fe-d06e78c544ff",
   "metadata": {},
   "outputs": [],
   "source": [
    "def brownian_motion(r, S, K, T, N, sigma, type=\"c\"):\n",
    "    \"\"\"Calculate BS price of call/put. Adapted from https://www.youtube.com/watch?v=Cb-GwN6jhNE\n",
    "    r = risk free rate of return\n",
    "    S = current stock price\n",
    "    K = Strike Price\n",
    "    T = time to maturity\n",
    "    N = Number of trading days in a year\n",
    "    sigma = standard deviation of log returns (volatility)\n",
    "    \"\"\"\n",
    "    dt = (T/N)/N\n",
    "    drift_coef = (r - 0.5 * sigma**2) * dt\n",
    "    Z = np.random.normal(0, 1, (Simulations, N))\n",
    "    right_hand_side = sigma * np.sqrt(dt)\n",
    "    Prices = np.zeros((Simulations, T))\n",
    "    Prices[:,0] += S\n",
    "    for i in range(1, T):\n",
    "        Prices[:,i] = Prices[:,i-1] * np.exp(drift_coef + right_hand_side * Z[:,i-1])\n",
    "    try:\n",
    "        if type == \"c\":\n",
    "            c = Prices[:,-1] - K\n",
    "            for i in range(len(c)):\n",
    "                if c[i] < 0:\n",
    "                    c[i] = 0\n",
    "                else: \n",
    "                   c[i] = c[i] \n",
    "            payoff_call = np.mean(c)\n",
    "            call = payoff_call*np.exp(-r*T/N)\n",
    "            return call\n",
    "        elif type == \"p\":\n",
    "            p = K - Prices[:,-1] \n",
    "            for i in range(len(p)):\n",
    "                if p[i] < 0:\n",
    "                    p[i] = 0\n",
    "                else: \n",
    "                   p[i] = p[i] \n",
    "            payoff_put = np.mean(p)\n",
    "            put = payoff_put*np.exp(-r*T/N)\n",
    "            return put\n",
    "    except:\n",
    "        print(\"Please confirm option type, either 'c' for Call or 'p' for Put!\")\n",
    " \n"
   ]
  },
  {
   "cell_type": "markdown",
   "id": "0074aac3-2da7-4b31-914e-7b4f1d859b80",
   "metadata": {},
   "source": [
    "## Compare Brownian Motion with Black Scholes"
   ]
  },
  {
   "cell_type": "markdown",
   "id": "49b7d6c7-daad-4020-bc65-11b4fca16ffb",
   "metadata": {},
   "source": [
    "### Call Option"
   ]
  },
  {
   "cell_type": "code",
   "execution_count": 6,
   "id": "f0513350-3c53-4259-9307-b8a82e456019",
   "metadata": {},
   "outputs": [
    {
     "data": {
      "text/plain": [
       "11.585832417399258"
      ]
     },
     "execution_count": 6,
     "metadata": {},
     "output_type": "execute_result"
    }
   ],
   "source": [
    "brownian_motion(r, S, K, T, N, sigma, type=\"c\") "
   ]
  },
  {
   "cell_type": "code",
   "execution_count": 7,
   "id": "fa3467d7-ff83-46b9-a006-084702b21432",
   "metadata": {},
   "outputs": [
    {
     "data": {
      "text/plain": [
       "11.541470170672412"
      ]
     },
     "execution_count": 7,
     "metadata": {},
     "output_type": "execute_result"
    }
   ],
   "source": [
    "blackScholes(r, S, K, T, N, sigma, type=\"c\") "
   ]
  },
  {
   "cell_type": "markdown",
   "id": "e5214111-521a-4b7c-85db-5bd3a4c3671f",
   "metadata": {},
   "source": [
    "### Put Option"
   ]
  },
  {
   "cell_type": "code",
   "execution_count": 8,
   "id": "e21c9660-0ce4-4be7-97d9-00de9039c55d",
   "metadata": {},
   "outputs": [
    {
     "data": {
      "text/plain": [
       "4.692094154207588"
      ]
     },
     "execution_count": 8,
     "metadata": {},
     "output_type": "execute_result"
    }
   ],
   "source": [
    "brownian_motion(r, S, K, T, N, sigma, type=\"p\") "
   ]
  },
  {
   "cell_type": "code",
   "execution_count": 9,
   "id": "1cf9611c-5f9c-4449-baf0-10a4f96a6586",
   "metadata": {},
   "outputs": [
    {
     "data": {
      "text/plain": [
       "4.780852161267234"
      ]
     },
     "execution_count": 9,
     "metadata": {},
     "output_type": "execute_result"
    }
   ],
   "source": [
    "blackScholes(r, S, K, T, N, sigma, type=\"p\") "
   ]
  },
  {
   "cell_type": "code",
   "execution_count": null,
   "id": "772cd54c",
   "metadata": {},
   "outputs": [],
   "source": []
  }
 ],
 "metadata": {
  "kernelspec": {
   "display_name": "Python 3 (ipykernel)",
   "language": "python",
   "name": "python3"
  },
  "language_info": {
   "codemirror_mode": {
    "name": "ipython",
    "version": 3
   },
   "file_extension": ".py",
   "mimetype": "text/x-python",
   "name": "python",
   "nbconvert_exporter": "python",
   "pygments_lexer": "ipython3",
   "version": "3.12.2"
  }
 },
 "nbformat": 4,
 "nbformat_minor": 5
}
