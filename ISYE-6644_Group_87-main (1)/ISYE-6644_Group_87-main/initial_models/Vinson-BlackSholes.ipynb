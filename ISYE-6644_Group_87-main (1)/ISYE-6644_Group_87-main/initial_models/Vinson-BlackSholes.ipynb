{
 "cells": [
  {
   "cell_type": "code",
   "execution_count": 4,
   "metadata": {},
   "outputs": [],
   "source": [
    "import numpy as np\n",
    "from scipy.stats import norm"
   ]
  },
  {
   "cell_type": "markdown",
   "metadata": {},
   "source": [
    "# Black-Scholes-merton model\n",
    "Parameters:\n",
    "- $S$: underlying price\n",
    "- $K$: strike price\n",
    "\n",
    "$$d_1 = \\frac{\\ln\\left(\\frac{S}{K}\\right) + \\left(r + \\frac{1}{2}\\sigma^2 \\right)T}{\\sigma \\sqrt T}$$\n",
    "$$d_2=d_1-\\sigma \\sqrt T$$\n",
    "\n",
    "Note that: A higher value of S is advantageous for a call option but detrimental for a put option, as it decreases the likelihood that the underlying price will drop below the strike price."
   ]
  },
  {
   "cell_type": "code",
   "execution_count": 3,
   "metadata": {},
   "outputs": [],
   "source": [
    "### Params\n",
    "# Underlying price\n",
    "S = 42\n",
    "# Strike price\n",
    "K = 40\n",
    "# Time to expiration (years)\n",
    "T = 0.5\n",
    "# Risk-free rate\n",
    "r = 0.1\n",
    "# Valatiltity\n",
    "sigma = 0.2"
   ]
  },
  {
   "cell_type": "code",
   "execution_count": 6,
   "metadata": {},
   "outputs": [],
   "source": [
    "# Calculate d1 and d2\n",
    "d1 = (np.log(S / K) + (r + np.square(sigma) / 2) * T) / (sigma * np.sqrt(T))\n",
    "d2 = d1 - sigma * np.sqrt(T)"
   ]
  },
  {
   "cell_type": "markdown",
   "metadata": {},
   "source": [
    "Call option price equation \n",
    "$$C=S*N(d_1)-Ke^{-rT}*N(d_2)$$\n",
    "- $N(d_2)$: the probability that the call option exercises when the underlying price $S$ is higher than the stike price $K$ at expiration time\n",
    "- $e^{-rT}$: continuous compound factor that discounts the future value to present value\n",
    "Put option price equation \n",
    "$$P=Ke^{-rT}*N(-d_2)-S*N(-d_1)$$"
   ]
  },
  {
   "cell_type": "code",
   "execution_count": 18,
   "metadata": {},
   "outputs": [
    {
     "name": "stdout",
     "output_type": "stream",
     "text": [
      "Call option price is $4.76\n",
      "Put option price is  $0.81\n"
     ]
    }
   ],
   "source": [
    "C = S * norm.cdf(d1) - K * np.exp(-r * T) * norm.cdf(d2)\n",
    "P = K * np.exp(-r * T) * norm.cdf(-d2) - S * norm.cdf(-d1)\n",
    "\n",
    "print(f\"Call option price is ${np.round(C, 2)}\")\n",
    "print(f\"Put option price is  ${np.round(P, 2)}\")"
   ]
  },
  {
   "cell_type": "code",
   "execution_count": null,
   "metadata": {},
   "outputs": [],
   "source": []
  }
 ],
 "metadata": {
  "kernelspec": {
   "display_name": "Python 3",
   "language": "python",
   "name": "python3"
  },
  "language_info": {
   "codemirror_mode": {
    "name": "ipython",
    "version": 3
   },
   "file_extension": ".py",
   "mimetype": "text/x-python",
   "name": "python",
   "nbconvert_exporter": "python",
   "pygments_lexer": "ipython3",
   "version": "3.11.8"
  }
 },
 "nbformat": 4,
 "nbformat_minor": 2
}
