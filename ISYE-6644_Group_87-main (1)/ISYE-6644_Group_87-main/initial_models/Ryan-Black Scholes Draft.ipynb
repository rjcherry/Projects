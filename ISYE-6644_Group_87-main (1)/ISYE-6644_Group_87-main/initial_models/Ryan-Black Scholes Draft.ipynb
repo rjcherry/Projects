{
 "cells": [
  {
   "cell_type": "code",
   "execution_count": 15,
   "id": "28201852",
   "metadata": {},
   "outputs": [],
   "source": [
    "#import necessary libraries and packages\n",
    "import numpy as np\n",
    "import pandas as pd\n",
    "from scipy.stats import *\n",
    "import random"
   ]
  },
  {
   "cell_type": "code",
   "execution_count": 23,
   "id": "9f3f704d",
   "metadata": {},
   "outputs": [
    {
     "name": "stdout",
     "output_type": "stream",
     "text": [
      "The price for a put is $ 2.91\n",
      "The price for a call is $ 17.0\n"
     ]
    }
   ],
   "source": [
    "seed = 123\n",
    "risk_free_rate = 0.065\n",
    "initial_stock_price = 75.00\n",
    "strike_price = 65.00\n",
    "volatility = 0.3\n",
    "time = 365/365\n",
    "trials = 1000\n",
    "\n",
    "\n",
    "\n",
    "def calculate_black_scholes_price(risk_free_rate, initial_stock_price, strike_price, time, decision = \"call\"):\n",
    "    d1 = (np.log(initial_stock_price/strike_price) + time * (risk_free_rate + volatility**2/2))/(volatility * np.sqrt(time))\n",
    "    d2 = d1 - volatility * np.sqrt(time)\n",
    "    if decision == \"call\":\n",
    "        #price equation if specification is for a call\n",
    "        price = initial_stock_price * norm.cdf(d1) - strike_price * np.exp(-risk_free_rate * time) * norm.cdf(d2)\n",
    "        return round(price, 3)\n",
    "    elif decision == \"put\":\n",
    "        #price equation  if specification is for a put\n",
    "        price = strike_price * np.exp(-risk_free_rate * time) * norm.cdf(-d2) - initial_stock_price * norm.cdf(-d1) \n",
    "        return round(price, 3)\n",
    "\n",
    "print(\"The price for a put is $\", \n",
    "calculate_black_scholes_price(risk_free_rate, initial_stock_price, strike_price, time, decision = \"put\"))\n",
    "\n",
    "print(\"The price for a call is $\", \n",
    "calculate_black_scholes_price(risk_free_rate, initial_stock_price, strike_price, time))\n",
    "\n",
    "#I am aiming to create an array and through a for loop, output the results of C for each trial \n",
    "#trials = 500\n",
    "#for i in range(trials):\n",
    "    #r = random()\n",
    "    #S = randint(1, 500)\n",
    "    #K = randint(1, 500)\n",
    "    #T = random()\n",
    "    #sigma = random()\n",
    "    #C = calculate_C(r, S, K, T, sigma)\n",
    "    #array['T'] = T\n",
    "    #array['r'] = r\n",
    "    #array['S'] = S\n",
    "    #array['K'] = K\n",
    "    #array['Sigma'] = sigma\n",
    "    #array['Option Price'] = C\n",
    "       \n",
    "#print(array)    "
   ]
  },
  {
   "cell_type": "code",
   "execution_count": null,
   "id": "2278eb0f",
   "metadata": {},
   "outputs": [],
   "source": []
  }
 ],
 "metadata": {
  "kernelspec": {
   "display_name": "Python 3 (ipykernel)",
   "language": "python",
   "name": "python3"
  },
  "language_info": {
   "codemirror_mode": {
    "name": "ipython",
    "version": 3
   },
   "file_extension": ".py",
   "mimetype": "text/x-python",
   "name": "python",
   "nbconvert_exporter": "python",
   "pygments_lexer": "ipython3",
   "version": "3.9.12"
  }
 },
 "nbformat": 4,
 "nbformat_minor": 5
}
